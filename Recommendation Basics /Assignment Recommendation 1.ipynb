{
 "cells": [
  {
   "cell_type": "code",
   "execution_count": 1,
   "metadata": {
    "collapsed": true,
    "deletable": true,
    "editable": true
   },
   "outputs": [],
   "source": [
    "import numpy as np\n",
    "import pandas as pd\n"
   ]
  },
  {
   "cell_type": "code",
   "execution_count": 2,
   "metadata": {
    "collapsed": false,
    "deletable": true,
    "editable": true
   },
   "outputs": [],
   "source": [
    "R = pd.read_csv('/home/santanu/Downloads/Assignment Recommendation/dataset/user-shows.txt', sep=\" \", header=None)\n",
    "R = np.matrix(R.values)"
   ]
  },
  {
   "cell_type": "code",
   "execution_count": 3,
   "metadata": {
    "collapsed": true,
    "deletable": true,
    "editable": true
   },
   "outputs": [],
   "source": [
    "# Manipulate the 20th user and make the 1st 100 entries as zero \n",
    "# Python matrix indexing starts from 0 and hence the 20th user is in row index 19\n",
    "R_man = R.copy()\n",
    "R_man[19,0:100] = 0 "
   ]
  },
  {
   "cell_type": "code",
   "execution_count": 4,
   "metadata": {
    "collapsed": false,
    "deletable": true,
    "editable": true
   },
   "outputs": [],
   "source": [
    "show = pd.read_csv('/home/santanu/Downloads/Assignment Recommendation/dataset/shows.txt', sep=\" \", header=None)\n",
    "show_ref = list(show[0].values)\n",
    "show_dict,show_rev_dict = {},{}\n",
    "for i in xrange(len(show_ref)):\n",
    "    show_dict[i] = show_ref[i]\n",
    "    show_rev_dict[show_ref[i]] = i\n",
    "    "
   ]
  },
  {
   "cell_type": "code",
   "execution_count": 5,
   "metadata": {
    "collapsed": false,
    "deletable": true,
    "editable": true
   },
   "outputs": [],
   "source": [
    "P = R_man*R_man.T\n",
    "Q = R_man.T*R_man\n",
    "p_ = np.diag(np.diag(P))\n",
    "q_ = np.diag(np.diag(Q))"
   ]
  },
  {
   "cell_type": "code",
   "execution_count": 6,
   "metadata": {
    "collapsed": false,
    "deletable": true,
    "editable": true
   },
   "outputs": [],
   "source": [
    "# Inverse of the L2 norm for the user vectors and the item vectors\n",
    "p__ = np.sqrt(np.linalg.inv(p_))\n",
    "q__ = np.sqrt(np.linalg.inv(q_))"
   ]
  },
  {
   "cell_type": "code",
   "execution_count": 7,
   "metadata": {
    "collapsed": false,
    "deletable": true,
    "editable": true
   },
   "outputs": [],
   "source": [
    "# User User Similarity U_s and Item - Item similarity I_s\n",
    "U_s = p__*P*p__\n",
    "I_s = q__*Q*q__"
   ]
  },
  {
   "cell_type": "code",
   "execution_count": 8,
   "metadata": {
    "collapsed": true,
    "deletable": true,
    "editable": true
   },
   "outputs": [],
   "source": [
    "# Recommendation Matrices\n",
    "Tau_U = U_s*R_man\n",
    "Tau_I = R_man*I_s"
   ]
  },
  {
   "cell_type": "code",
   "execution_count": 9,
   "metadata": {
    "collapsed": false,
    "deletable": true,
    "editable": true
   },
   "outputs": [
    {
     "data": {
      "text/html": [
       "<div>\n",
       "<table border=\"1\" class=\"dataframe\">\n",
       "  <thead>\n",
       "    <tr style=\"text-align: right;\">\n",
       "      <th></th>\n",
       "      <th>Show</th>\n",
       "      <th>score</th>\n",
       "    </tr>\n",
       "  </thead>\n",
       "  <tbody>\n",
       "    <tr>\n",
       "      <th>96</th>\n",
       "      <td>FOX 28 News at 10pm</td>\n",
       "      <td>666.482824</td>\n",
       "    </tr>\n",
       "    <tr>\n",
       "      <th>74</th>\n",
       "      <td>Family Guy</td>\n",
       "      <td>664.956977</td>\n",
       "    </tr>\n",
       "    <tr>\n",
       "      <th>45</th>\n",
       "      <td>2009 NCAA Basketball Tournament</td>\n",
       "      <td>588.914140</td>\n",
       "    </tr>\n",
       "    <tr>\n",
       "      <th>35</th>\n",
       "      <td>SpongeBob SquarePants</td>\n",
       "      <td>583.334679</td>\n",
       "    </tr>\n",
       "    <tr>\n",
       "      <th>60</th>\n",
       "      <td>NBC 4 at Eleven</td>\n",
       "      <td>565.554363</td>\n",
       "    </tr>\n",
       "  </tbody>\n",
       "</table>\n",
       "</div>"
      ],
      "text/plain": [
       "                               Show       score\n",
       "96              FOX 28 News at 10pm  666.482824\n",
       "74                       Family Guy  664.956977\n",
       "45  2009 NCAA Basketball Tournament  588.914140\n",
       "35            SpongeBob SquarePants  583.334679\n",
       "60                  NBC 4 at Eleven  565.554363"
      ]
     },
     "execution_count": 9,
     "metadata": {},
     "output_type": "execute_result"
    }
   ],
   "source": [
    "##Recommended movies in the 1st 100 movies for user 20 according to user similarity based recommendation score\n",
    "out_scores_user_tau = pd.DataFrame()\n",
    "out_scores_user_tau['index'] = xrange(100)\n",
    "out_scores_user_tau['score'] = list(np.array(Tau_U[19:20,0:100])[0])\n",
    "out_scores_user_tau = out_scores_user_tau.sort_values(['score'],ascending=False)\n",
    "out_scores_user_tau['Show'] = out_scores_user_tau['index'].apply(lambda x:show_dict[x])\n",
    "out_scores_user_tau[['Show','score']][0:5]\n",
    "\n",
    "\n",
    "\n"
   ]
  },
  {
   "cell_type": "code",
   "execution_count": 10,
   "metadata": {
    "collapsed": false,
    "deletable": true,
    "editable": true
   },
   "outputs": [
    {
     "data": {
      "text/html": [
       "<div>\n",
       "<table border=\"1\" class=\"dataframe\">\n",
       "  <thead>\n",
       "    <tr style=\"text-align: right;\">\n",
       "      <th></th>\n",
       "      <th>Show</th>\n",
       "      <th>score</th>\n",
       "    </tr>\n",
       "  </thead>\n",
       "  <tbody>\n",
       "    <tr>\n",
       "      <th>35</th>\n",
       "      <td>SpongeBob SquarePants</td>\n",
       "      <td>15.385709</td>\n",
       "    </tr>\n",
       "    <tr>\n",
       "      <th>63</th>\n",
       "      <td>Wow Wow Wubbzy</td>\n",
       "      <td>15.247345</td>\n",
       "    </tr>\n",
       "    <tr>\n",
       "      <th>96</th>\n",
       "      <td>FOX 28 News at 10pm</td>\n",
       "      <td>14.954295</td>\n",
       "    </tr>\n",
       "    <tr>\n",
       "      <th>74</th>\n",
       "      <td>Family Guy</td>\n",
       "      <td>14.927589</td>\n",
       "    </tr>\n",
       "    <tr>\n",
       "      <th>48</th>\n",
       "      <td>Max and Ruby</td>\n",
       "      <td>14.924622</td>\n",
       "    </tr>\n",
       "  </tbody>\n",
       "</table>\n",
       "</div>"
      ],
      "text/plain": [
       "                     Show      score\n",
       "35  SpongeBob SquarePants  15.385709\n",
       "63         Wow Wow Wubbzy  15.247345\n",
       "96    FOX 28 News at 10pm  14.954295\n",
       "74             Family Guy  14.927589\n",
       "48           Max and Ruby  14.924622"
      ]
     },
     "execution_count": 10,
     "metadata": {},
     "output_type": "execute_result"
    }
   ],
   "source": [
    "##Recommended movies in the 1st 100 movies for user 20 according to Item item similarity based recommendation score\n",
    "out_scores_item_tau = pd.DataFrame()\n",
    "out_scores_item_tau['index'] = xrange(100)\n",
    "out_scores_item_tau['score'] = list(np.array(Tau_I[19:20,0:100])[0])\n",
    "out_scores_item_tau = out_scores_item_tau.sort_values(['score'],ascending=False)\n",
    "out_scores_item_tau['Show'] = out_scores_item_tau['index'].apply(lambda x:show_dict[x])\n",
    "out_scores_item_tau[['Show','score']][0:5]"
   ]
  },
  {
   "cell_type": "code",
   "execution_count": 11,
   "metadata": {
    "collapsed": false,
    "deletable": true,
    "editable": true
   },
   "outputs": [
    {
     "name": "stdout",
     "output_type": "stream",
     "text": [
      "('Late Night with Jimmy Fallon', 'The Tonight Show with Jay Leno', 0.80205084310717067)\n",
      "('The Daily Show with Jon Stewart', 'The Colbert Report', 0.79692398735594761)\n",
      "('The Penguins of Madagascar', 'SpongeBob SquarePants', 0.79166332055515831)\n",
      "('The Fairly OddParents', 'SpongeBob SquarePants', 0.79166182987988221)\n",
      "('iCarly', 'SpongeBob SquarePants', 0.78783547949343369)\n"
     ]
    }
   ],
   "source": [
    "item_sim = pd.DataFrame()\n",
    "index_sim = []\n",
    "scores = []\n",
    "for i in xrange(100):\n",
    "    for j in xrange(0,i):\n",
    "        index_sim.append((i,j))\n",
    "        scores.append(I_s[i,j])\n",
    "        \n",
    "item_sim['Index'] = index_sim\n",
    "item_sim['Score'] = scores\n",
    "item_sim = item_sim.sort_values(['Score'],ascending=False)\n",
    "indices = item_sim.Index[:5]\n",
    "k = 0 \n",
    "for ind in indices:\n",
    "    show_1 = show_dict[ind[0]]\n",
    "    show_2 = show_dict[ind[1]]\n",
    "    print (show_1,show_2,item_sim['Score'].values[k])\n",
    "    k += 1"
   ]
  },
  {
   "cell_type": "code",
   "execution_count": 12,
   "metadata": {
    "collapsed": false,
    "deletable": true,
    "editable": true
   },
   "outputs": [
    {
     "data": {
      "text/plain": [
       "<matplotlib.text.Text at 0x7f05e1814850>"
      ]
     },
     "execution_count": 12,
     "metadata": {},
     "output_type": "execute_result"
    },
    {
     "data": {
      "image/png": "[encoded data removed]",
      "text/plain": [
       "<matplotlib.figure.Figure at 0x7f06a78c5690>"
      ]
     },
     "metadata": {},
     "output_type": "display_data"
    }
   ],
   "source": [
    "import matplotlib.pyplot as plt\n",
    "%matplotlib inline\n",
    "## User User top k evaluation\n",
    "true_postive_rate_k_u = []\n",
    "held_out_pos_count = np.sum(R[19,0:100] )\n",
    "for k in xrange(1,20):\n",
    "    count_k = 0\n",
    "    out_temp = out_scores_user_tau[0:k]\n",
    "    index = out_temp['index'].values\n",
    "    for i in index:\n",
    "        if R[19,i] == 1:\n",
    "            count_k +=1 \n",
    "    tpr = count_k/float(held_out_pos_count)\n",
    "    true_postive_rate_k_u.append(tpr)\n",
    "    \n",
    "plt.plot(xrange(1,20),true_postive_rate_k_u)\n",
    "plt.xlabel('k')\n",
    "plt.ylabel('True positive rate')\n",
    "    \n",
    "    "
   ]
  },
  {
   "cell_type": "code",
   "execution_count": 13,
   "metadata": {
    "collapsed": false,
    "deletable": true,
    "editable": true
   },
   "outputs": [
    {
     "data": {
      "text/plain": [
       "<matplotlib.text.Text at 0x7f05e16ff950>"
      ]
     },
     "execution_count": 13,
     "metadata": {},
     "output_type": "execute_result"
    },
    {
     "data": {
      "image/png": "[encoded data removed]",
      "text/plain": [
       "<matplotlib.figure.Figure at 0x7f05e1a8fa90>"
      ]
     },
     "metadata": {},
     "output_type": "display_data"
    }
   ],
   "source": [
    "import matplotlib.pyplot as plt\n",
    "%matplotlib inline\n",
    "## Item Item top k evaluation\n",
    "true_postive_rate_k_i = []\n",
    "held_out_pos_count = np.sum(R[19,0:100] )\n",
    "for k in xrange(1,20):\n",
    "    count_k = 0\n",
    "    out_temp = out_scores_item_tau[0:k]\n",
    "    index = out_temp['index'].values\n",
    "    for i in index:\n",
    "        if R[19,i] == 1:\n",
    "            count_k +=1 \n",
    "    tpr = count_k/float(held_out_pos_count)\n",
    "    true_postive_rate_k_i.append(tpr)\n",
    "    \n",
    "plt.plot(xrange(1,20),true_postive_rate_k_i)\n",
    "plt.xlabel('k')\n",
    "plt.ylabel('True positive rate')"
   ]
  },
  {
   "cell_type": "code",
   "execution_count": 14,
   "metadata": {
    "collapsed": false,
    "deletable": true,
    "editable": true
   },
   "outputs": [
    {
     "data": {
      "text/plain": [
       "<matplotlib.text.Text at 0x7f05e1814050>"
      ]
     },
     "execution_count": 14,
     "metadata": {},
     "output_type": "execute_result"
    },
    {
     "data": {
      "image/png": "[encoded data removed]",
      "text/plain": [
       "<matplotlib.figure.Figure at 0x7f06a78ac790>"
      ]
     },
     "metadata": {},
     "output_type": "display_data"
    }
   ],
   "source": [
    "plt.plot(xrange(1,20),true_postive_rate_k_u,'blue',xrange(1,20),true_postive_rate_k_i,'red')\n",
    "plt.xlabel('k')\n",
    "plt.ylabel('True positive rate')"
   ]
  },
  {
   "cell_type": "code",
   "execution_count": 15,
   "metadata": {
    "collapsed": true,
    "deletable": true,
    "editable": true
   },
   "outputs": [],
   "source": [
    "# Question 5 starts\n",
    "P = R*R.T\n",
    "Q = R.T*R\n",
    "p_ = np.diag(np.diag(P))\n",
    "q_ = np.diag(np.diag(Q))\n",
    "p__ = np.sqrt(np.linalg.inv(p_))\n",
    "q__ = np.sqrt(np.linalg.inv(q_))\n",
    "# User User Similarity U_s and Item - Item similarity I_s\n",
    "U_s = p__*P*p__\n",
    "I_s = q__*Q*q__\n",
    "# Recommendation Matrices\n",
    "Tau_UU = U_s*R\n",
    "Tau_II = R*I_s\n"
   ]
  },
  {
   "cell_type": "code",
   "execution_count": 16,
   "metadata": {
    "collapsed": false,
    "deletable": true,
    "editable": true
   },
   "outputs": [
    {
     "data": {
      "text/plain": [
       "array([ 96,  74, 140,  45,  60, 156,  68,  35, 137, 326])"
      ]
     },
     "execution_count": 16,
     "metadata": {},
     "output_type": "execute_result"
    }
   ],
   "source": [
    "out_scores_user_tauu = pd.DataFrame()\n",
    "out_scores_user_tauu['index'] = xrange(R.shape[1])\n",
    "out_scores_user_tauu['score'] = list(np.array(Tau_UU[19:20,:])[0])\n",
    "out_scores_user_tauu = out_scores_user_tauu.sort_values(['score'],ascending=False)\n",
    "out_scores_user_tauu['Show'] = out_scores_user_tauu['index'].apply(lambda x:show_dict[x])\n",
    "list_user_rec = out_scores_user_tauu['index'][0:10].values\n",
    "list_user_rec"
   ]
  },
  {
   "cell_type": "code",
   "execution_count": 17,
   "metadata": {
    "collapsed": false,
    "deletable": true,
    "editable": true
   },
   "outputs": [
    {
     "data": {
      "text/plain": [
       "array([144,  96,  35,  74, 155, 173, 205,  63, 140, 145])"
      ]
     },
     "execution_count": 17,
     "metadata": {},
     "output_type": "execute_result"
    }
   ],
   "source": [
    "out_scores_item_tauu = pd.DataFrame()\n",
    "out_scores_item_tauu['index'] = xrange(R.shape[1])\n",
    "out_scores_item_tauu['score'] = list(np.array(Tau_II[19:20,:])[0])\n",
    "out_scores_item_tauu = out_scores_item_tauu.sort_values(['score'],ascending=False)\n",
    "out_scores_item_tauu['Show'] = out_scores_item_tauu['index'].apply(lambda x:show_dict[x])\n",
    "list_item_rec = out_scores_item_tauu['index'][0:10].values\n",
    "list_item_rec"
   ]
  },
  {
   "cell_type": "code",
   "execution_count": 18,
   "metadata": {
    "collapsed": true
   },
   "outputs": [],
   "source": [
    "recs = []\n",
    "for i in xrange(R.shape[0]):\n",
    "    for j in xrange(R.shape[1]):\n",
    "        if R[i,j] == 1:\n",
    "            rec = str(i) + ' ' + str(j)\n",
    "            recs.append(rec)\n",
    "\n",
    "outfile = open('recomm.txt', 'w')\n",
    "\n",
    "for item in recs:\n",
    "  outfile.write(\"%s\\n\" % item)\n",
    "outfile.close()\n",
    "            "
   ]
  },
  {
   "cell_type": "code",
   "execution_count": 168,
   "metadata": {
    "collapsed": false
   },
   "outputs": [
    {
     "data": {
      "text/plain": [
       "array([ 48,  77, 192, 208, 280, 195, 207, 222, 219, 489])"
      ]
     },
     "execution_count": 168,
     "metadata": {},
     "output_type": "execute_result"
    }
   ],
   "source": [
    "WRMF = pd.read_csv('/home/santanu/Downloads/Assignment Recommendation/MyMediaLite-3.11/lib/mymedialite/output_wrmf.txt', sep=\"\\t\", header=None)\n",
    "WRMF_20 = WRMF[WRMF[0] == 19][1]\n",
    "array_str = WRMF_20.values[0][1:-1]\n",
    "pairs = array_str.split(',')\n",
    "showid,score = [],[]\n",
    "for p in pairs:\n",
    "    showid.append(int(p.split(':')[0]))\n",
    "    score.append(float(p.split(':')[1]))\n",
    "    \n",
    "scores_WRMF = pd.DataFrame()\n",
    "scores_WRMF['showid'] = showid\n",
    "scores_WRMF['score'] = score\n",
    "scores_WRMF = scores_WRMF.sort_values(['score'],ascending=False)\n",
    "wrmf =  scores_WRMF['showid'][:10].values\n",
    "\n",
    "wrmf \n",
    "\n"
   ]
  },
  {
   "cell_type": "code",
   "execution_count": 166,
   "metadata": {
    "collapsed": false
   },
   "outputs": [
    {
     "data": {
      "text/plain": [
       "array([234,  48,  37, 543, 490, 477, 280, 553, 489, 222])"
      ]
     },
     "execution_count": 166,
     "metadata": {},
     "output_type": "execute_result"
    }
   ],
   "source": [
    "itemknn = pd.read_csv('/home/santanu/Downloads/Assignment Recommendation/MyMediaLite-3.11/lib/mymedialite/output_ItemKNN.txt', sep=\"\\t\", header=None)\n",
    "itemknn_20 = itemknn[itemknn[0] == 19][1]\n",
    "array_str = itemknn_20.values[0][1:-1]\n",
    "pairs = array_str.split(',')\n",
    "showid,score = [],[]\n",
    "for p in pairs:\n",
    "    showid.append(int(p.split(':')[0]))\n",
    "    score.append(float(p.split(':')[1]))\n",
    "    \n",
    "scores_knn = pd.DataFrame()\n",
    "scores_knn['showid'] = showid\n",
    "scores_knn['score'] = score\n",
    "scores_knn = scores_knn.sort_values(['score'],ascending=False)\n",
    "ItemKNN = scores_knn['showid'][:10].values\n",
    "\n",
    "ItemKNN \n"
   ]
  },
  {
   "cell_type": "code",
   "execution_count": 171,
   "metadata": {
    "collapsed": true
   },
   "outputs": [],
   "source": [
    "recomm_df = pd.DataFrame()\n",
    "recomm_df['Item-item'] = list_item_rec\n",
    "recomm_df['User-user'] = list_user_rec\n",
    "recomm_df['ItemKNN'] = list(ItemKNN)\n",
    "recomm_df['WRMF'] = list(wrmf)"
   ]
  },
  {
   "cell_type": "code",
   "execution_count": 198,
   "metadata": {
    "collapsed": false
   },
   "outputs": [
    {
     "data": {
      "text/html": [
       "<div>\n",
       "<table border=\"1\" class=\"dataframe\">\n",
       "  <thead>\n",
       "    <tr style=\"text-align: right;\">\n",
       "      <th></th>\n",
       "      <th>Item-item</th>\n",
       "      <th>User-user</th>\n",
       "      <th>ItemKNN</th>\n",
       "      <th>WRMF</th>\n",
       "    </tr>\n",
       "  </thead>\n",
       "  <tbody>\n",
       "    <tr>\n",
       "      <th>0</th>\n",
       "      <td>144</td>\n",
       "      <td>96</td>\n",
       "      <td>234</td>\n",
       "      <td>48</td>\n",
       "    </tr>\n",
       "    <tr>\n",
       "      <th>1</th>\n",
       "      <td>96</td>\n",
       "      <td>74</td>\n",
       "      <td>48</td>\n",
       "      <td>77</td>\n",
       "    </tr>\n",
       "    <tr>\n",
       "      <th>2</th>\n",
       "      <td>35</td>\n",
       "      <td>140</td>\n",
       "      <td>37</td>\n",
       "      <td>192</td>\n",
       "    </tr>\n",
       "    <tr>\n",
       "      <th>3</th>\n",
       "      <td>74</td>\n",
       "      <td>45</td>\n",
       "      <td>543</td>\n",
       "      <td>208</td>\n",
       "    </tr>\n",
       "    <tr>\n",
       "      <th>4</th>\n",
       "      <td>155</td>\n",
       "      <td>60</td>\n",
       "      <td>490</td>\n",
       "      <td>280</td>\n",
       "    </tr>\n",
       "    <tr>\n",
       "      <th>5</th>\n",
       "      <td>173</td>\n",
       "      <td>156</td>\n",
       "      <td>477</td>\n",
       "      <td>195</td>\n",
       "    </tr>\n",
       "    <tr>\n",
       "      <th>6</th>\n",
       "      <td>205</td>\n",
       "      <td>68</td>\n",
       "      <td>280</td>\n",
       "      <td>207</td>\n",
       "    </tr>\n",
       "    <tr>\n",
       "      <th>7</th>\n",
       "      <td>63</td>\n",
       "      <td>35</td>\n",
       "      <td>553</td>\n",
       "      <td>222</td>\n",
       "    </tr>\n",
       "    <tr>\n",
       "      <th>8</th>\n",
       "      <td>140</td>\n",
       "      <td>137</td>\n",
       "      <td>489</td>\n",
       "      <td>219</td>\n",
       "    </tr>\n",
       "    <tr>\n",
       "      <th>9</th>\n",
       "      <td>145</td>\n",
       "      <td>326</td>\n",
       "      <td>222</td>\n",
       "      <td>489</td>\n",
       "    </tr>\n",
       "  </tbody>\n",
       "</table>\n",
       "</div>"
      ],
      "text/plain": [
       "   Item-item  User-user  ItemKNN  WRMF\n",
       "0        144         96      234    48\n",
       "1         96         74       48    77\n",
       "2         35        140       37   192\n",
       "3         74         45      543   208\n",
       "4        155         60      490   280\n",
       "5        173        156      477   195\n",
       "6        205         68      280   207\n",
       "7         63         35      553   222\n",
       "8        140        137      489   219\n",
       "9        145        326      222   489"
      ]
     },
     "execution_count": 198,
     "metadata": {},
     "output_type": "execute_result"
    }
   ],
   "source": [
    "# the list of recomendation\n",
    "recomm_df"
   ]
  },
  {
   "cell_type": "code",
   "execution_count": 173,
   "metadata": {
    "collapsed": false
   },
   "outputs": [
    {
     "data": {
      "text/html": [
       "<div>\n",
       "<table border=\"1\" class=\"dataframe\">\n",
       "  <thead>\n",
       "    <tr style=\"text-align: right;\">\n",
       "      <th></th>\n",
       "      <th>ShowID</th>\n",
       "      <th>ShowName</th>\n",
       "    </tr>\n",
       "  </thead>\n",
       "  <tbody>\n",
       "    <tr>\n",
       "      <th>0</th>\n",
       "      <td>192</td>\n",
       "      <td>Handy Manny</td>\n",
       "    </tr>\n",
       "    <tr>\n",
       "      <th>1</th>\n",
       "      <td>195</td>\n",
       "      <td>Imagination Movers</td>\n",
       "    </tr>\n",
       "    <tr>\n",
       "      <th>2</th>\n",
       "      <td>68</td>\n",
       "      <td>Today</td>\n",
       "    </tr>\n",
       "    <tr>\n",
       "      <th>3</th>\n",
       "      <td>326</td>\n",
       "      <td>10TV Eyewitness News at 6:00</td>\n",
       "    </tr>\n",
       "    <tr>\n",
       "      <th>4</th>\n",
       "      <td>207</td>\n",
       "      <td>Happy Monster Band</td>\n",
       "    </tr>\n",
       "    <tr>\n",
       "      <th>5</th>\n",
       "      <td>137</td>\n",
       "      <td>10TV Eyewitness News at 5:00</td>\n",
       "    </tr>\n",
       "    <tr>\n",
       "      <th>6</th>\n",
       "      <td>74</td>\n",
       "      <td>Family Guy</td>\n",
       "    </tr>\n",
       "    <tr>\n",
       "      <th>7</th>\n",
       "      <td>140</td>\n",
       "      <td>10TV News HD at 11pm</td>\n",
       "    </tr>\n",
       "    <tr>\n",
       "      <th>8</th>\n",
       "      <td>205</td>\n",
       "      <td>The Backyardigans</td>\n",
       "    </tr>\n",
       "    <tr>\n",
       "      <th>9</th>\n",
       "      <td>77</td>\n",
       "      <td>Disney's Mickey Mouse Clubhouse</td>\n",
       "    </tr>\n",
       "    <tr>\n",
       "      <th>10</th>\n",
       "      <td>173</td>\n",
       "      <td>Wonder Pets!</td>\n",
       "    </tr>\n",
       "    <tr>\n",
       "      <th>11</th>\n",
       "      <td>144</td>\n",
       "      <td>Dora, the Explorer</td>\n",
       "    </tr>\n",
       "    <tr>\n",
       "      <th>12</th>\n",
       "      <td>145</td>\n",
       "      <td>Go, Diego, Go!</td>\n",
       "    </tr>\n",
       "    <tr>\n",
       "      <th>13</th>\n",
       "      <td>280</td>\n",
       "      <td>Olivia</td>\n",
       "    </tr>\n",
       "    <tr>\n",
       "      <th>14</th>\n",
       "      <td>155</td>\n",
       "      <td>Ni Hao, Kai-Lan</td>\n",
       "    </tr>\n",
       "    <tr>\n",
       "      <th>15</th>\n",
       "      <td>156</td>\n",
       "      <td>Seinfeld</td>\n",
       "    </tr>\n",
       "    <tr>\n",
       "      <th>16</th>\n",
       "      <td>477</td>\n",
       "      <td>The NewsHour with Jim Lehrer</td>\n",
       "    </tr>\n",
       "    <tr>\n",
       "      <th>17</th>\n",
       "      <td>222</td>\n",
       "      <td>Little Einsteins</td>\n",
       "    </tr>\n",
       "    <tr>\n",
       "      <th>18</th>\n",
       "      <td>543</td>\n",
       "      <td>Sesame Street</td>\n",
       "    </tr>\n",
       "    <tr>\n",
       "      <th>19</th>\n",
       "      <td>96</td>\n",
       "      <td>FOX 28 News at 10pm</td>\n",
       "    </tr>\n",
       "    <tr>\n",
       "      <th>20</th>\n",
       "      <td>208</td>\n",
       "      <td>Tasty Time with ZeFronk</td>\n",
       "    </tr>\n",
       "    <tr>\n",
       "      <th>21</th>\n",
       "      <td>35</td>\n",
       "      <td>SpongeBob SquarePants</td>\n",
       "    </tr>\n",
       "    <tr>\n",
       "      <th>22</th>\n",
       "      <td>37</td>\n",
       "      <td>Curious George</td>\n",
       "    </tr>\n",
       "    <tr>\n",
       "      <th>23</th>\n",
       "      <td>553</td>\n",
       "      <td>Dragon Tales</td>\n",
       "    </tr>\n",
       "    <tr>\n",
       "      <th>24</th>\n",
       "      <td>490</td>\n",
       "      <td>Clifford the Big Red Dog</td>\n",
       "    </tr>\n",
       "    <tr>\n",
       "      <th>25</th>\n",
       "      <td>45</td>\n",
       "      <td>2009 NCAA Basketball Tournament</td>\n",
       "    </tr>\n",
       "    <tr>\n",
       "      <th>26</th>\n",
       "      <td>48</td>\n",
       "      <td>Max and Ruby</td>\n",
       "    </tr>\n",
       "    <tr>\n",
       "      <th>27</th>\n",
       "      <td>219</td>\n",
       "      <td>My Friends Tigger and Pooh</td>\n",
       "    </tr>\n",
       "    <tr>\n",
       "      <th>28</th>\n",
       "      <td>489</td>\n",
       "      <td>Caillou</td>\n",
       "    </tr>\n",
       "    <tr>\n",
       "      <th>29</th>\n",
       "      <td>60</td>\n",
       "      <td>NBC 4 at Eleven</td>\n",
       "    </tr>\n",
       "    <tr>\n",
       "      <th>30</th>\n",
       "      <td>234</td>\n",
       "      <td>Jack's Big Music Show</td>\n",
       "    </tr>\n",
       "    <tr>\n",
       "      <th>31</th>\n",
       "      <td>63</td>\n",
       "      <td>Wow Wow Wubbzy</td>\n",
       "    </tr>\n",
       "  </tbody>\n",
       "</table>\n",
       "</div>"
      ],
      "text/plain": [
       "    ShowID                         ShowName\n",
       "0      192                      Handy Manny\n",
       "1      195               Imagination Movers\n",
       "2       68                            Today\n",
       "3      326     10TV Eyewitness News at 6:00\n",
       "4      207               Happy Monster Band\n",
       "5      137     10TV Eyewitness News at 5:00\n",
       "6       74                       Family Guy\n",
       "7      140             10TV News HD at 11pm\n",
       "8      205                The Backyardigans\n",
       "9       77  Disney's Mickey Mouse Clubhouse\n",
       "10     173                     Wonder Pets!\n",
       "11     144               Dora, the Explorer\n",
       "12     145                   Go, Diego, Go!\n",
       "13     280                           Olivia\n",
       "14     155                  Ni Hao, Kai-Lan\n",
       "15     156                         Seinfeld\n",
       "16     477     The NewsHour with Jim Lehrer\n",
       "17     222                 Little Einsteins\n",
       "18     543                    Sesame Street\n",
       "19      96              FOX 28 News at 10pm\n",
       "20     208          Tasty Time with ZeFronk\n",
       "21      35            SpongeBob SquarePants\n",
       "22      37                   Curious George\n",
       "23     553                     Dragon Tales\n",
       "24     490         Clifford the Big Red Dog\n",
       "25      45  2009 NCAA Basketball Tournament\n",
       "26      48                     Max and Ruby\n",
       "27     219       My Friends Tigger and Pooh\n",
       "28     489                          Caillou\n",
       "29      60                  NBC 4 at Eleven\n",
       "30     234            Jack's Big Music Show\n",
       "31      63                   Wow Wow Wubbzy"
      ]
     },
     "execution_count": 173,
     "metadata": {},
     "output_type": "execute_result"
    }
   ],
   "source": [
    "# index of shows\n",
    "outitem = set(list_item_rec).union(set(list_user_rec),set(ItemKNN),set(wrmf))\n",
    "outitem = list(outitem)\n",
    "outlabel = [show_dict[int(item)] for item in outitem]\n",
    "index_shows = pd.DataFrame()\n",
    "index_shows['ShowID'] =outitem\n",
    "index_shows['ShowName'] = outlabel\n",
    "index_shows"
   ]
  },
  {
   "cell_type": "code",
   "execution_count": 196,
   "metadata": {
    "collapsed": false
   },
   "outputs": [
    {
     "name": "stdout",
     "output_type": "stream",
     "text": [
      "kendal Tau correlation:\n",
      "[[ 1.          0.2        -0.02222222  0.06666667]\n",
      " [ 0.2         1.         -0.55555556 -0.11111111]\n",
      " [-0.02222222 -0.55555556  1.          0.37777778]\n",
      " [ 0.06666667 -0.11111111  0.37777778  1.        ]]\n"
     ]
    }
   ],
   "source": [
    "from scipy import stats\n",
    "out_kt = np.zeros((rec_mat.shape[1],rec_mat.shape[1]))\n",
    "rec_mat = recomm_df.values\n",
    "for i in xrange(rec_mat.shape[1]):\n",
    "    for j in xrange(rec_mat.shape[1]):\n",
    "        out_kt[i,j] = stats.kendalltau(rec_mat[:,i],rec_mat[:,j])[0]\n",
    "        \n",
    "print 'kendal Tau correlation:'\n",
    "print out_kt"
   ]
  },
  {
   "cell_type": "code",
   "execution_count": 178,
   "metadata": {
    "collapsed": false
   },
   "outputs": [
    {
     "data": {
      "text/html": [
       "<div>\n",
       "<table border=\"1\" class=\"dataframe\">\n",
       "  <thead>\n",
       "    <tr style=\"text-align: right;\">\n",
       "      <th></th>\n",
       "      <th>Item-item</th>\n",
       "      <th>User-user</th>\n",
       "      <th>ItemKNN</th>\n",
       "      <th>WRMF</th>\n",
       "    </tr>\n",
       "  </thead>\n",
       "  <tbody>\n",
       "    <tr>\n",
       "      <th>Item-item</th>\n",
       "      <td>1.000000</td>\n",
       "      <td>0.200000</td>\n",
       "      <td>-0.022222</td>\n",
       "      <td>0.066667</td>\n",
       "    </tr>\n",
       "    <tr>\n",
       "      <th>User-user</th>\n",
       "      <td>0.200000</td>\n",
       "      <td>1.000000</td>\n",
       "      <td>-0.555556</td>\n",
       "      <td>-0.111111</td>\n",
       "    </tr>\n",
       "    <tr>\n",
       "      <th>ItemKNN</th>\n",
       "      <td>-0.022222</td>\n",
       "      <td>-0.555556</td>\n",
       "      <td>1.000000</td>\n",
       "      <td>0.377778</td>\n",
       "    </tr>\n",
       "    <tr>\n",
       "      <th>WRMF</th>\n",
       "      <td>0.066667</td>\n",
       "      <td>-0.111111</td>\n",
       "      <td>0.377778</td>\n",
       "      <td>1.000000</td>\n",
       "    </tr>\n",
       "  </tbody>\n",
       "</table>\n",
       "</div>"
      ],
      "text/plain": [
       "           Item-item  User-user   ItemKNN      WRMF\n",
       "Item-item   1.000000   0.200000 -0.022222  0.066667\n",
       "User-user   0.200000   1.000000 -0.555556 -0.111111\n",
       "ItemKNN    -0.022222  -0.555556  1.000000  0.377778\n",
       "WRMF        0.066667  -0.111111  0.377778  1.000000"
      ]
     },
     "execution_count": 178,
     "metadata": {},
     "output_type": "execute_result"
    }
   ],
   "source": [
    "# kendal tau correlation \n",
    "recomm_df.corr(method='kendall')"
   ]
  },
  {
   "cell_type": "code",
   "execution_count": 197,
   "metadata": {
    "collapsed": false
   },
   "outputs": [
    {
     "data": {
      "text/plain": [
       "array([[ 0.       ,  0.4      ,  0.5111111,  0.4666667],\n",
       "       [ 0.4      ,  0.       ,  0.7777778,  0.5555556],\n",
       "       [ 0.5111111,  0.7777778,  0.       ,  0.3111111],\n",
       "       [ 0.4666667,  0.5555556,  0.3111111,  0.       ]])"
      ]
     },
     "execution_count": 197,
     "metadata": {},
     "output_type": "execute_result"
    }
   ],
   "source": [
    "###################################################\n",
    "# Kendal tao distance from Kendall Tao correlation\n",
    "# total pairs n(n-1)/2 = 10*9/2 = 45\n",
    "##################################################\n",
    "def kendall_tau(kendall_corr,pairs):\n",
    "    concor_minus_discor = kendall_corr*pairs\n",
    "    discor = (pairs - concor_minus_discor)/2.0\n",
    "    kendall_dist = discor/float(pairs)\n",
    "    return np.round(kendall_dist,7)\n",
    "\n",
    "kendall_tau(out_kt,45)\n",
    "       "
   ]
  }
 ],
 "metadata": {
  "kernelspec": {
   "display_name": "Python 2",
   "language": "python",
   "name": "python2"
  },
  "language_info": {
   "codemirror_mode": {
    "name": "ipython",
    "version": 2
   },
   "file_extension": ".py",
   "mimetype": "text/x-python",
   "name": "python",
   "nbconvert_exporter": "python",
   "pygments_lexer": "ipython2",
   "version": "2.7.12"
  }
 },
 "nbformat": 4,
 "nbformat_minor": 2
}
